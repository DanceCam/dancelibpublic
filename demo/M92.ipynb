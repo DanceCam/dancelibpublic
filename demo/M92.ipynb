{
 "cells": [
  {
   "cell_type": "code",
   "execution_count": 3,
   "id": "initial_id",
   "metadata": {
    "collapsed": true,
    "ExecuteTime": {
     "end_time": "2024-04-11T17:58:45.709732Z",
     "start_time": "2024-04-11T17:58:44.533239Z"
    }
   },
   "outputs": [],
   "source": [
    "import os\n",
    "import sys\n",
    "import matplotlib.pyplot as plt\n",
    "import matplotlib.colors as colors\n",
    "import matplotlib.animation as animation\n",
    "from matplotlib.ticker import FormatStrFormatter\n",
    "import numpy as np\n",
    "import torch\n",
    "import h5py\n",
    "import astropy.units as u\n",
    "#import astroalign as aa\n",
    "#import sewpy\n",
    "import re\n",
    "from tqdm.notebook import tqdm\n",
    "from astropy.coordinates import SkyCoord\n",
    "from astropy.time import Time\n",
    "from astropy import wcs\n",
    "\n",
    "sys.path.append('../dancelib')\n",
    "from residunet import ResidualEncoderUNet\n"
   ]
  },
  {
   "cell_type": "markdown",
   "source": [
    "# Download the data"
   ],
   "metadata": {
    "collapsed": false
   },
   "id": "6f5263b678ed0c86"
  },
  {
   "cell_type": "code",
   "outputs": [
    {
     "name": "stdout",
     "output_type": "stream",
     "text": [
      "Path: ../data/M92sim.1024x1024x160.fits\n",
      "Downloading data...\n"
     ]
    }
   ],
   "source": [
    "data_url = 'https://deepdip.iap.fr/api/v1/item/66181d157a386bd3dc41d7f6/download'\n",
    "data_dir = '../data/'\n",
    "data_file = 'M92sim.1024x1024x160.fits'\n",
    "\n",
    "# Download the data\n",
    "print('Path: {}'.format(os.path.join(data_dir,data_file)))\n",
    "if not os.path.exists(os.path.join(data_dir,data_file)):\n",
    "    print('Downloading data...')\n",
    "    import urllib.request\n",
    "    urllib.request.urlretrieve(data_url,os.path.join(data_dir,data_file))\n"
   ],
   "metadata": {
    "collapsed": false,
    "ExecuteTime": {
     "end_time": "2024-04-11T18:04:48.690802Z",
     "start_time": "2024-04-11T18:04:28.524831Z"
    }
   },
   "id": "eda0945fb2481d91",
   "execution_count": 14
  },
  {
   "cell_type": "code",
   "outputs": [],
   "source": [],
   "metadata": {
    "collapsed": false,
    "ExecuteTime": {
     "end_time": "2024-04-11T18:08:31.254072Z",
     "start_time": "2024-04-11T18:08:31.252140Z"
    }
   },
   "id": "bae86888096f396a",
   "execution_count": 14
  },
  {
   "cell_type": "code",
   "outputs": [],
   "source": [],
   "metadata": {
    "collapsed": false
   },
   "id": "b086bd226d576de2"
  }
 ],
 "metadata": {
  "kernelspec": {
   "display_name": "Python 3",
   "language": "python",
   "name": "python3"
  },
  "language_info": {
   "codemirror_mode": {
    "name": "ipython",
    "version": 2
   },
   "file_extension": ".py",
   "mimetype": "text/x-python",
   "name": "python",
   "nbconvert_exporter": "python",
   "pygments_lexer": "ipython2",
   "version": "2.7.6"
  }
 },
 "nbformat": 4,
 "nbformat_minor": 5
}
